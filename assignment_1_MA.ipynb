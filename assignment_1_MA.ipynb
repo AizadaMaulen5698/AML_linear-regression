{
 "cells":[
  {
   "cell_type":"code",
   "source":[
    "import pandas as pd\n",
    "import numpy as np\n",
    "import seaborn as sns\n",
    "import matplotlib.pyplot as plt\n",
    "%matplotlib inline"
   ],
   "execution_count":1,
   "outputs":[
    
   ],
   "metadata":{
    "datalore":{
     "node_id":"Qg9rWVqjQT8PJ07rLe8aJW",
     "type":"CODE",
     "hide_input_from_viewers":false,
     "hide_output_from_viewers":false
    }
   }
  },
  {
   "cell_type":"code",
   "source":[
    "companies = pd.read_csv('AML_LinearRegression.csv')\n",
    "X = companies.iloc[:, :-1].values\n",
    "y = companies.iloc[:, 4].values"
   ],
   "execution_count":3,
   "outputs":[
    
   ],
   "metadata":{
    "datalore":{
     "node_id":"HGkGccdFs73c2zlZD9PVWA",
     "type":"CODE",
     "hide_input_from_viewers":false,
     "hide_output_from_viewers":false
    }
   }
  },
  {
   "cell_type":"code",
   "source":[
    "companies.head()"
   ],
   "execution_count":4,
   "outputs":[
    {
     "data":{
      "text\/html":[
       "<div>\n",
       "<style scoped>\n",
       "    .dataframe tbody tr th:only-of-type {\n",
       "        vertical-align: middle;\n",
       "    }\n",
       "\n",
       "    .dataframe tbody tr th {\n",
       "        vertical-align: top;\n",
       "    }\n",
       "\n",
       "    .dataframe thead th {\n",
       "        text-align: right;\n",
       "    }\n",
       "<\/style>\n",
       "<table border=\"1\" class=\"dataframe\">\n",
       "  <thead>\n",
       "    <tr style=\"text-align: right;\">\n",
       "      <th><\/th>\n",
       "      <th>R&amp;D Spend<\/th>\n",
       "      <th>Administration<\/th>\n",
       "      <th>Marketing Spend<\/th>\n",
       "      <th>State<\/th>\n",
       "      <th>Profit<\/th>\n",
       "    <\/tr>\n",
       "  <\/thead>\n",
       "  <tbody>\n",
       "    <tr>\n",
       "      <th>0<\/th>\n",
       "      <td>165349.20<\/td>\n",
       "      <td>136897.80<\/td>\n",
       "      <td>471784.10<\/td>\n",
       "      <td>New York<\/td>\n",
       "      <td>192261.83<\/td>\n",
       "    <\/tr>\n",
       "    <tr>\n",
       "      <th>1<\/th>\n",
       "      <td>162597.70<\/td>\n",
       "      <td>151377.59<\/td>\n",
       "      <td>443898.53<\/td>\n",
       "      <td>California<\/td>\n",
       "      <td>191792.06<\/td>\n",
       "    <\/tr>\n",
       "    <tr>\n",
       "      <th>2<\/th>\n",
       "      <td>153441.51<\/td>\n",
       "      <td>101145.55<\/td>\n",
       "      <td>407934.54<\/td>\n",
       "      <td>Florida<\/td>\n",
       "      <td>191050.39<\/td>\n",
       "    <\/tr>\n",
       "    <tr>\n",
       "      <th>3<\/th>\n",
       "      <td>144372.41<\/td>\n",
       "      <td>118671.85<\/td>\n",
       "      <td>383199.62<\/td>\n",
       "      <td>New York<\/td>\n",
       "      <td>182901.99<\/td>\n",
       "    <\/tr>\n",
       "    <tr>\n",
       "      <th>4<\/th>\n",
       "      <td>142107.34<\/td>\n",
       "      <td>91391.77<\/td>\n",
       "      <td>366168.42<\/td>\n",
       "      <td>Florida<\/td>\n",
       "      <td>166187.94<\/td>\n",
       "    <\/tr>\n",
       "  <\/tbody>\n",
       "<\/table>\n",
       "<\/div>"
      ]
     },
     "metadata":{
      
     },
     "output_type":"display_data"
    }
   ],
   "metadata":{
    "datalore":{
     "node_id":"NvFRqBaVIUX9tknZ6R4nka",
     "type":"CODE",
     "hide_input_from_viewers":false,
     "hide_output_from_viewers":false
    }
   }
  },
  {
   "cell_type":"code",
   "source":[
    "sns.heatmap(companies.corr())"
   ],
   "execution_count":5,
   "outputs":[
    {
     "data":{
      "text\/plain":[
       "<AxesSubplot:>"
      ]
     },
     "metadata":{
      
     },
     "output_type":"display_data"
    },
    {
     "data":{
      "image\/png":"[encoded data removed]"
     },
     "metadata":{
      "image\/png":{
       
      }
     },
     "output_type":"display_data"
    }
   ],
   "metadata":{
    "datalore":{
     "node_id":"dgDvV0kwmLR8w34Fmepzce",
     "type":"CODE",
     "hide_input_from_viewers":false,
     "hide_output_from_viewers":false
    }
   }
  },
  {
   "cell_type":"code",
   "source":[
    "from sklearn.preprocessing import LabelEncoder, OneHotEncoder\n",
    "from sklearn.compose import ColumnTransformer\n",
    "lblencoder = LabelEncoder()\n",
    "X[:, 3] = lblencoder.fit_transform(X[:, 3])\n",
    "ohe = ColumnTransformer([('my_ohe', OneHotEncoder(),[0])], remainder='passthrough')\n",
    "X = ohe.fit_transform(X)"
   ],
   "execution_count":6,
   "outputs":[
    
   ],
   "metadata":{
    "datalore":{
     "node_id":"HntOuLGtzc6A9XTm0To54e",
     "type":"CODE",
     "hide_input_from_viewers":false,
     "hide_output_from_viewers":false
    }
   }
  },
  {
   "cell_type":"code",
   "source":[
    "X = X[:, 1:]"
   ],
   "execution_count":7,
   "outputs":[
    
   ],
   "metadata":{
    "datalore":{
     "node_id":"rDve1rsdt4XPYK91inwJmG",
     "type":"CODE",
     "hide_input_from_viewers":false,
     "hide_output_from_viewers":false
    }
   }
  },
  {
   "cell_type":"code",
   "source":[
    "from sklearn.model_selection import train_test_split\n",
    "X_train, X_val, y_train, y_val = train_test_split(X, y, test_size=0.2, random_state=0)"
   ],
   "execution_count":8,
   "outputs":[
    
   ],
   "metadata":{
    "datalore":{
     "node_id":"wOEf7iYre7Q7iCNCibK1V1",
     "type":"CODE",
     "hide_input_from_viewers":false,
     "hide_output_from_viewers":false
    }
   }
  },
  {
   "cell_type":"code",
   "source":[
    "from sklearn.linear_model import LinearRegression\n",
    "model = LinearRegression()\n",
    "model.fit(X_train, y_train)"
   ],
   "execution_count":9,
   "outputs":[
    {
     "data":{
      "text\/plain":[
       "LinearRegression()"
      ]
     },
     "metadata":{
      
     },
     "output_type":"display_data"
    }
   ],
   "metadata":{
    "datalore":{
     "node_id":"Qs6b2DJFyU4W5awsklrrCP",
     "type":"CODE",
     "hide_input_from_viewers":false,
     "hide_output_from_viewers":false
    }
   }
  },
  {
   "cell_type":"code",
   "source":[
    "y_pred = model.predict(X_train)\n",
    "y_pred"
   ],
   "execution_count":11,
   "outputs":[
    {
     "data":{
      "text\/html":[
       
      ]
     },
     "metadata":{
      
     },
     "output_type":"display_data"
    }
   ],
   "metadata":{
    "datalore":{
     "node_id":"PmSAVuTuUstEijG2OnRjnl",
     "type":"CODE",
     "hide_input_from_viewers":false,
     "hide_output_from_viewers":false
    }
   }
  },
  {
   "cell_type":"code",
   "source":[
    "print(model.coef_)"
   ],
   "execution_count":12,
   "outputs":[
    {
     "name":"stdout",
     "text":[
      "[ 6.90895137e+04  0.00000000e+00  5.29521081e+03  5.29090690e+03\n",
      " -9.19761353e+04  5.26181586e+03  0.00000000e+00  1.07687127e+04\n",
      "  1.07678359e+04  5.18458525e+03  7.96258168e+03  7.96162528e+03\n",
      "  5.17828883e+03  1.07368320e+04  5.14585039e+03  0.00000000e+00\n",
      "  1.06829540e+04  5.10719521e+03  5.09420387e+03  7.86925138e+03\n",
      "  1.06445378e+04  1.06299526e+04  0.00000000e+00  1.06066000e+04\n",
      "  5.00533681e+03  5.00087356e+03  4.98501300e+03  0.00000000e+00\n",
      "  1.05210008e+04  7.70283484e+03  7.69733547e+03  7.68928558e+03\n",
      "  4.90578980e+03  4.90060920e+03  4.84163024e+03  7.61779349e+03\n",
      "  4.83613079e+03  7.60663524e+03  7.59691169e+03  4.81413323e+03\n",
      "  4.77715183e+03  4.77547807e+03  4.76336342e+03  4.75770463e+03\n",
      "  1.02887509e+04  0.00000000e+00  1.02293734e+04  1.02281778e+04\n",
      "  4.66843908e+03  1.02222003e+04  0.00000000e+00  1.02092089e+04\n",
      "  1.02021155e+04  1.01950221e+04  4.62468304e+03  7.38530451e+03\n",
      "  7.37805169e+03  0.00000000e+00  0.00000000e+00  1.00983443e+04\n",
      "  1.00942796e+04  0.00000000e+00  7.27308501e+03  0.00000000e+00\n",
      "  1.00419157e+04  0.00000000e+00  1.00252581e+04  1.00007898e+04\n",
      "  7.21729402e+03  7.21131646e+03  9.98987074e+03  9.96245344e+03\n",
      "  9.95033888e+03  7.16883559e+03  9.94683196e+03  9.93025413e+03\n",
      "  9.92244339e+03  0.00000000e+00  0.00000000e+00  7.11431980e+03\n",
      "  4.33074438e+03  0.00000000e+00  7.06753512e+03  9.84011181e+03\n",
      "  0.00000000e+00  7.02680772e+03  7.01867819e+03  4.18600662e+03\n",
      "  4.16145863e+03  2.62689672e+04  6.91251597e+03  4.08024290e+03\n",
      "  0.00000000e+00  4.05410087e+03  9.58682085e+03  6.79949942e+03\n",
      "  6.79280450e+03  4.00269341e+03  6.77750177e+03  6.74291140e+03\n",
      "  9.50177946e+03  6.71278430e+03  9.48352783e+03  0.00000000e+00\n",
      "  6.68536702e+03  6.68249773e+03  3.89445895e+03  6.66528228e+03\n",
      "  6.66313031e+03  3.88194584e+03  3.87859842e+03  3.85843396e+03\n",
      "  3.85452861e+03  6.62025099e+03  6.61283871e+03  6.60622353e+03\n",
      "  6.60120235e+03  3.80838150e+03  0.00000000e+00  2.49458835e+04\n",
      "  9.33544264e+03  3.74788813e+03  9.25685709e+03  0.00000000e+00\n",
      "  3.68946700e+03  6.45144344e+03  3.64738468e+03  6.41733123e+03\n",
      "  7.84943773e+03  9.16719304e+03  0.00000000e+00  0.00000000e+00\n",
      "  9.12845818e+03  6.34185400e+03  9.11969103e+03  9.11634358e+03\n",
      "  3.55540928e+03  9.10072210e+03  0.00000000e+00  0.00000000e+00\n",
      "  9.07864482e+03  1.17160544e+04  3.43633543e+03  0.00000000e+00\n",
      "  8.97391724e+03  6.19289214e+03  0.00000000e+00  0.00000000e+00\n",
      "  8.94371035e+03  8.91135162e+03  6.10043850e+03  3.30753804e+03\n",
      "  8.83531648e+03  0.00000000e+00  6.03986554e+03  3.21779419e+03\n",
      "  0.00000000e+00  3.19268832e+03  5.96781543e+03  5.96056262e+03\n",
      "  1.76952143e+04  3.16814029e+03  0.00000000e+00  8.70125876e+03\n",
      " -1.95138198e+04  5.88197711e+03 -1.02958317e+04  5.86747145e+03\n",
      "  3.08230190e+03  8.63638187e+03  0.00000000e+00  5.85224841e+03\n",
      "  3.05783351e+03  3.04332792e+03  8.59214763e+03  8.58274285e+03\n",
      "  8.57788102e+03  5.79566047e+03  5.72400893e+03  0.00000000e+00\n",
      "  2.92792030e+03  5.65889290e+03  5.65434996e+03  2.85475446e+03\n",
      "  8.40253800e+03  2.84104583e+03  8.39034373e+03  8.38492399e+03\n",
      "  5.59584911e+03  8.34084917e+03  2.77051006e+03  8.31988763e+03\n",
      "  5.52889996e+03  5.50411281e+03  2.72412386e+03  5.50036683e+03\n",
      "  8.26433579e+03  0.00000000e+00  2.67526693e+03  0.00000000e+00\n",
      "  2.65159564e+03  0.00000000e+00  5.36049091e+03  2.58034262e+03\n",
      "  5.34813720e+03  8.10804141e+03  2.52997129e+03  5.30199007e+03\n",
      "  2.52192149e+03  5.30063514e+03  2.49872839e+03  8.05639489e+03\n",
      "  8.05496032e+03  5.27281941e+03  0.00000000e+00  5.23567854e+03\n",
      "  5.23249047e+03  2.42787384e+03  2.42277295e+03  2.39384133e+03\n",
      "  2.35550495e+03  7.89236947e+03  0.00000000e+00  2.06607689e+04\n",
      "  7.86152496e+03  0.00000000e+00  7.83083998e+03  2.26759439e+03\n",
      "  2.26137768e+03  4.98621320e+03  0.00000000e+00  0.00000000e+00\n",
      "  7.74125557e+03  0.00000000e+00  4.94389175e+03  0.00000000e+00\n",
      "  4.87431243e+03  7.63788296e+03  0.00000000e+00  7.61875459e+03\n",
      "  2.05678415e+03  7.61397252e+03  0.00000000e+00  4.80680539e+03\n",
      "  7.54670452e+03  0.00000000e+00  4.74455865e+03  1.95899061e+03\n",
      "  4.73770433e+03  1.94536164e+03  7.49338433e+03  0.00000000e+00\n",
      "  7.47361839e+03  7.44564318e+03  1.88383215e+03  4.62756213e+04\n",
      "  1.87315222e+03  1.85139370e+03  0.00000000e+00  4.62548472e+03\n",
      "  7.39909754e+03  1.82947589e+03  1.82939618e+03  7.38068657e+03\n",
      "  0.00000000e+00  1.78300998e+03  7.31365771e+03  0.00000000e+00\n",
      "  4.52872729e+03  7.28799387e+03  1.60236950e+04  1.71167720e+03\n",
      "  4.48114556e+03  1.69605573e+03  0.00000000e+00  4.47014673e+03\n",
      "  1.68776676e+03  4.45524259e+03  4.44583790e+03  0.00000000e+00\n",
      "  1.61117380e+03  7.16852146e+03  0.00000000e+00  0.00000000e+00\n",
      "  4.35768807e+03  4.33967557e+03  0.00000000e+00  7.10053621e+03\n",
      "  0.00000000e+00  4.29902787e+03  7.07829950e+03  0.00000000e+00\n",
      "  0.00000000e+00  4.27440019e+03  4.24355576e+03  1.45719067e+03\n",
      "  1.45424175e+03  0.00000000e+00  4.21534144e+03  4.19836505e+03\n",
      "  4.19677100e+03  1.41534746e+03  4.18282325e+03  1.39805230e+03\n",
      "  6.94519819e+03  6.91610715e+03  1.34959385e+03  1.33811682e+03\n",
      "  4.11635234e+03  0.00000000e+00  4.07897234e+03  6.85720790e+03\n",
      "  0.00000000e+00  0.00000000e+00  0.00000000e+00  6.75032836e+03\n",
      "  0.00000000e+00  6.72904804e+03  6.72872927e+03  3.94674783e+03\n",
      "  6.72131704e+03  6.71908537e+03  3.93845887e+03  6.70242774e+03\n",
      "  1.10586702e+03  1.09741862e+03  3.86951712e+03  3.86672760e+03\n",
      "  0.00000000e+00  1.07924680e+03  6.63707266e+03  3.83317334e+03\n",
      "  3.77004981e+03  5.14656161e+02  9.56028345e+02  0.00000000e+00\n",
      "  6.49584181e+03  8.94658297e+02  3.66500342e+03  6.44188394e+03\n",
      "  8.75290923e+02  0.00000000e+00  6.42068338e+03  6.41008312e+03\n",
      "  6.39422258e+03  3.60761839e+03  6.37126853e+03  6.34895211e+03\n",
      "  7.86583268e+02  7.82199669e+02  7.80286857e+02  3.55676889e+03\n",
      "  3.53102534e+03  6.30790595e+03  3.50711499e+03  6.27124332e+03\n",
      "  6.26414991e+03  3.48200898e+03  7.01780978e+02  3.48009620e+03\n",
      "  3.47061167e+03  6.20541000e+03  0.00000000e+00  6.15607476e+03\n",
      "  0.00000000e+00  3.36189904e+03  6.13200499e+03  6.12586806e+03\n",
      "  0.00000000e+00  3.32427997e+03  6.10076198e+03  6.09350924e+03\n",
      "  6.09231369e+03  0.00000000e+00  0.00000000e+00  3.26123622e+03\n",
      "  3.23294218e+03  0.00000000e+00  3.21923347e+03  0.00000000e+00\n",
      "  4.24898448e+02  4.04813674e+02  3.92699040e+02  3.16121088e+03\n",
      "  3.78512076e+02  5.93235302e+03  0.00000000e+00  5.91768792e+03\n",
      "  3.12247612e+03  3.12104149e+03  5.35470017e+04  3.11426687e+03\n",
      "  3.11235410e+03  3.21844464e+02  3.19453409e+02  2.81276479e+02\n",
      "  2.72907821e+02  0.00000000e+00  5.80937378e+03  0.00000000e+00\n",
      "  2.42302505e+02  1.63464584e+04  5.75605352e+03  0.00000000e+00\n",
      "  5.74306229e+03  1.72802931e+02  5.73054918e+03  6.33971972e+03\n",
      "  0.00000000e+00  2.91931734e+03  1.27851328e+02 -1.74892941e+04\n",
      "  1.23627079e+02  1.16214932e+02  2.88743667e+03  2.88129960e+03\n",
      "  7.55672376e+01  5.63036449e+03  6.14600836e+01  0.00000000e+00\n",
      "  2.83515258e+03  3.98610337e+01  2.81666185e+03  2.80885117e+03\n",
      " -2.77171018e+04  0.00000000e+00  2.76198675e+03  0.00000000e+00\n",
      "  2.72811366e+03  2.70133402e+03  5.47996790e+03 -8.17633305e+01\n",
      " -1.00971345e+02  0.00000000e+00  2.63119680e+03  2.61174969e+03\n",
      "  5.37795020e+03  2.58688285e+03  0.00000000e+00  2.56735602e+03\n",
      " -2.28573276e+02  5.33044813e+03 -2.33674072e+02  0.00000000e+00\n",
      "  0.00000000e+00  2.51531096e+03 -2.84443908e+02  0.00000000e+00\n",
      "  2.48175673e+03 -3.17201178e+02  5.22986510e+03  0.00000000e+00\n",
      "  0.00000000e+00  5.20005673e+03  0.00000000e+00  5.17383504e+03\n",
      "  5.15757586e+03 -4.13241367e+02 -4.28623632e+02 -4.32289904e+02\n",
      "  5.11047232e+03  5.09915475e+03 -4.65206701e+02  5.07205637e+03\n",
      " -3.94334173e+04 -5.28011343e+02  0.00000000e+00  4.99474599e+03\n",
      " -5.93366499e+02  9.79217570e+03 -6.17276942e+02  4.93975193e+03\n",
      "  0.00000000e+00 -6.67329393e+02 -1.92704764e+04  4.86403564e+03\n",
      "  2.07591719e+03  4.85295713e+03  4.84179898e+03  4.81533816e+03\n",
      "  2.03240022e+03  4.38078267e+04  4.80003545e+03 -2.61963735e+03\n",
      "  4.72718836e+03 -8.45462016e+02  4.70582846e+03 -6.51178674e+04\n",
      "  0.00000000e+00  4.68478722e+03  4.67968639e+03 -8.81168085e+02\n",
      "  0.00000000e+00  4.65458052e+03  0.00000000e+00 -9.19584222e+02\n",
      "  4.60660026e+03 -9.75933148e+02 -9.81990470e+02  0.00000000e+00\n",
      "  0.00000000e+00  4.54530986e+03  0.00000000e+00 -1.05443902e+03\n",
      "  0.00000000e+00  4.49262724e+03  4.48617139e+03 -1.13039443e+03\n",
      " -1.18052659e+03  4.35474386e+03  1.55897407e+03 -1.22523907e+03\n",
      "  4.29855440e+03  0.00000000e+00  0.00000000e+00  0.00000000e+00\n",
      "  4.27320938e+03  0.00000000e+00  0.00000000e+00  1.47720038e+03\n",
      "  4.23837980e+03  0.00000000e+00  4.22008805e+03  1.41264224e+03\n",
      "  1.41184537e+03  4.19031997e+03  0.00000000e+00  1.37111787e+03\n",
      "  1.33573045e+03  1.33349889e+03  4.09101205e+03  7.28640960e+04\n",
      "  4.05514635e+03  1.24973267e+03 -1.55400730e+03  3.99042889e+03\n",
      "  1.20844733e+03  0.00000000e+00  3.97496681e+03  3.93248592e+03\n",
      "  0.00000000e+00  1.11288543e+03  3.88617945e+03 -1.72066284e+03\n",
      "  1.04091511e+03  1.02513421e+03 -1.75764426e+03  1.00361486e+03\n",
      "  0.00000000e+00 -1.78689468e+03 -1.79406781e+03  9.80262269e+02\n",
      " -1.81622480e+03  3.73434824e+03  3.73028353e+03  0.00000000e+00\n",
      " -1.86763215e+03 -1.88134077e+03 -1.88165969e+03 -1.88899218e+03\n",
      " -1.90509182e+03 -1.49319698e+04  3.63527944e+03 -1.76204901e+03\n",
      "  8.30264343e+02 -1.95410816e+03  3.59287831e+03  3.57877124e+03\n",
      "  3.56617837e+03  3.55972256e+03 -2.00671108e+03 -2.06266152e+03\n",
      "  3.49325157e+03  7.12545315e+02 -2.06808109e+03  1.06202523e+04\n",
      "  0.00000000e+00  3.44630754e+03  6.51334706e+02  6.36271165e+02\n",
      "  3.40813052e+03 -3.67081895e+04 -2.16834549e+03  3.35799832e+03\n",
      "  3.34165957e+03  5.53700488e+02  0.00000000e+00  3.29870054e+03\n",
      " -2.30869962e+03  3.24298921e+03 -2.35564375e+03  3.87443389e+02\n",
      "  3.47672378e+02 -2.43383079e+03  3.11618439e+03  2.80563879e+02\n",
      " -2.51950983e+03  2.58885062e+02  2.33380715e+02 -2.56007777e+03\n",
      "  2.01497046e+05  2.95718011e+03  0.00000000e+00 -2.61841917e+03\n",
      "  2.93326966e+03 -2.62670813e+03  4.52052878e+04 -2.67556507e+03\n",
      "  2.87620347e+03  2.87150111e+03  7.52530721e+01  5.35743627e+01\n",
      "  3.75656202e+04  2.81132659e+03  2.80861672e+03  4.55800959e+00\n",
      " -2.78061156e+03 -2.06275985e+01  2.70109956e+03 -9.76192059e+01\n",
      " -1.02162189e+02  0.00000000e+00  0.00000000e+00  2.64411310e+03\n",
      " -1.48229635e+02  0.00000000e+00 -1.97086439e+02 -2.98217630e+03\n",
      " -2.06889771e+02  2.57166455e+03  0.00000000e+00  0.00000000e+00\n",
      " -2.23148907e+02  0.00000000e+00  0.00000000e+00 -2.73440381e+02\n",
      "  0.00000000e+00 -3.08690399e+03 -3.11695136e+03 -3.38396999e+02\n",
      "  2.43792559e+03  2.41616716e+03  2.40987072e+03  0.00000000e+00\n",
      "  0.00000000e+00  2.38372864e+03  2.38348957e+03  2.37488192e+03\n",
      "  0.00000000e+00 -3.19489928e+03  0.00000000e+00  2.35479706e+03\n",
      " -3.21354948e+03  2.33949435e+03 -4.46312696e+02  2.32753913e+03\n",
      "  0.00000000e+00 -4.84170885e+02 -4.85844638e+02  2.25716288e+03\n",
      " -3.30831437e+03 -3.32712397e+03 -3.32752241e+03 -5.55184779e+02\n",
      "  0.00000000e+00 -3.34784622e+03  0.00000000e+00 -3.36083757e+03\n",
      " -5.82602092e+02 -3.36785136e+03 -3.38036439e+03  2.15386987e+03\n",
      "  2.15339174e+03 -6.33610954e+02 -6.91713335e+02  0.00000000e+00\n",
      " -7.05342213e+02 -3.48692523e+03 -3.49473594e+03 -3.51601622e+03\n",
      " -3.53793405e+03  2.01654446e+03  2.01638495e+03 -7.64640040e+02\n",
      "  1.99159787e+03  0.00000000e+00  1.93493016e+03 -8.47768573e+02\n",
      " -8.63310396e+02 -3.65134913e+03  0.00000000e+00 -3.67286856e+03\n",
      " -3.70108274e+03 -9.39106399e+02 -5.00687382e+03  1.82358741e+03\n",
      " -9.61024321e+02  0.00000000e+00 -1.03666081e+03  0.00000000e+00\n",
      " -1.07603333e+03 -3.91093654e+03 -3.92926794e+03  1.62752191e+03\n",
      "  1.60743727e+03  0.00000000e+00 -3.99685469e+03 -1.22850214e+03\n",
      "  1.54598746e+03 -1.25018095e+03  0.00000000e+00  0.00000000e+00\n",
      "  1.48756631e+03 -1.29608889e+03 -4.09369184e+03 -4.13505679e+03\n",
      "  0.00000000e+00  0.00000000e+00  0.00000000e+00 -1.41619884e+03\n",
      "  1.35550113e+03 -1.43373314e+03  0.00000000e+00 -4.22687286e+03\n",
      " -4.23069853e+03  1.32266416e+03  1.32027312e+03  0.00000000e+00\n",
      " -1.51789782e+03 -4.29828528e+03  1.25946095e+03 -1.58628154e+03\n",
      " -4.38460189e+03 -1.61887948e+03  1.15600862e+03 -4.40572266e+03\n",
      " -4.41704041e+03  1.14102479e+03  0.00000000e+00  1.12596115e+03\n",
      " -4.43417609e+03  1.36014403e+04 -1.67140269e+03  0.00000000e+00\n",
      "  1.08730594e+03 -4.48502559e+03 -1.75397331e+03 -1.76274051e+03\n",
      "  0.00000000e+00  9.83215978e+02  0.00000000e+00  9.76441247e+02\n",
      " -1.82140073e+03 -1.82466846e+03 -1.83941327e+03  9.26628018e+02\n",
      " -4.63837109e+03  8.84864434e+02  0.00000000e+00  0.00000000e+00\n",
      " -4.71113843e+03 -4.72683958e+03  0.00000000e+00  8.23733447e+02\n",
      "  0.00000000e+00 -4.74517095e+03  0.00000000e+00 -1.99236011e+03\n",
      "  7.70652403e+02  0.00000000e+00 -2.02583467e+03  0.00000000e+00\n",
      "  7.32794290e+02  0.00000000e+00  3.32377405e+04 -4.86376657e+03\n",
      "  6.76126447e+02 -4.88855369e+03 -2.11063699e+03  6.55962095e+02\n",
      " -4.90760237e+03 -2.13502567e+03  0.00000000e+00  6.35080325e+02\n",
      " -4.96068342e+03 -2.20436583e+03 -2.13209694e+04 -2.24110812e+03\n",
      " -2.24310070e+03 -2.25943948e+03 -5.04795650e+03 -2.27490157e+03\n",
      " -5.05728156e+03 -2.28127762e+03 -5.06549081e+03 -2.31363644e+03\n",
      "  0.00000000e+00 -5.09753070e+03  4.60135727e+02 -5.11275367e+03\n",
      " -2.33635138e+03  0.00000000e+00 -5.12702023e+03 -5.13084582e+03\n",
      " -2.36145729e+03 -2.38449097e+03 -5.18456467e+03 -5.18831064e+03\n",
      " -5.19197691e+03 -2.43589832e+03 -5.21700311e+03  3.16434165e+02\n",
      " -5.25342662e+03  3.04638347e+02 -5.26171558e+03  0.00000000e+00\n",
      " -2.50460100e+03 -5.28953136e+03 -2.51201316e+03  2.56259689e+02\n",
      " -2.54317636e+03  6.31218481e+04  0.00000000e+00  0.00000000e+00\n",
      " -2.58486025e+03  0.00000000e+00 -5.36891392e+03  1.86202182e+02\n",
      "  1.60936871e+02 -2.62056644e+03  0.00000000e+00 -5.41633629e+03\n",
      " -5.42988550e+03 -2.65842463e+03  0.00000000e+00  0.00000000e+00\n",
      "  0.00000000e+00 -5.47659051e+03  7.79677469e+01 -5.51500654e+03\n",
      "  4.03485874e+01 -5.55796568e+03 -5.55924080e+03  0.00000000e+00\n",
      " -2.79646743e+03  0.00000000e+00 -4.49318308e+01 -7.80876251e+01\n",
      " -8.89270519e+01  0.00000000e+00 -2.87043032e+03 -9.21150706e+01\n",
      " -5.65217266e+03  0.00000000e+00  0.00000000e+00 -5.73004088e+03\n",
      " -1.73968392e+02  0.00000000e+00 -5.74988659e+03 -2.11428142e+02\n",
      "  0.00000000e+00 -5.78192648e+03 -3.00839336e+03 -2.29121775e+02\n",
      "  0.00000000e+00 -3.03628880e+03  0.00000000e+00 -2.70008570e+02\n",
      " -2.70964967e+02 -3.05812706e+03  0.00000000e+00 -2.80927663e+02\n",
      " -3.07319059e+03 -2.93520586e+02 -3.07390787e+03 -5.85851950e+03\n",
      " -3.02367309e+02 -5.86314215e+03 -3.09000760e+03  0.00000000e+00\n",
      " -3.65969055e+02  1.56208891e+04 -5.93694563e+03 -3.77366286e+02\n",
      " -3.85017685e+02  0.00000000e+00  0.00000000e+00 -3.22908652e+03\n",
      " -4.66153640e+02 -6.03155129e+03 -4.79304460e+02 -3.26790109e+03\n",
      "  0.00000000e+00 -3.27985628e+03 -3.29898463e+03  4.17546569e+01\n",
      " -5.56375629e+02 -6.12639582e+03 -5.77974640e+02 -5.92321002e+02\n",
      " -6.16433371e+03 -3.38785168e+03 -3.39056151e+03 -6.38468070e+02\n",
      " -6.20490170e+03 -6.45880299e+02 -3.44212834e+03 -3.44324418e+03\n",
      " -3.47408853e+03 -3.47743606e+03  0.00000000e+00  0.00000000e+00\n",
      "  0.00000000e+00  0.00000000e+00  0.00000000e+00  0.00000000e+00\n",
      " -3.52565534e+03 -3.52629300e+03 -8.00102472e+02 -3.59579257e+03\n",
      "  0.00000000e+00 -6.42591374e+03  0.00000000e+00  0.00000000e+00\n",
      " -8.77572260e+02 -6.44464345e+03  0.00000000e+00 -8.95425296e+02\n",
      "  0.00000000e+00 -3.71390999e+03 -9.51853873e+02 -9.71460410e+02\n",
      " -6.53167742e+03 -9.87081899e+02 -1.02828757e+03  0.00000000e+00\n",
      " -6.59456180e+03 -6.60970514e+03 -6.61361045e+03  0.00000000e+00\n",
      " -3.88781840e+03 -1.13189932e+03 -1.15118712e+03 -6.71905537e+03\n",
      " -6.73124966e+03 -4.00218994e+03  1.48972930e+04 -4.07073312e+03\n",
      " -1.30222122e+03 -6.87550911e+03 -4.10588143e+03  0.00000000e+00\n",
      "  0.00000000e+00 -4.11982913e+03  0.00000000e+00 -4.16278818e+03\n",
      " -1.38431361e+03 -6.95640612e+03 -4.18119925e+03 -1.40551417e+03\n",
      " -1.40798494e+03 -1.41157149e+03  0.00000000e+00 -4.19411090e+03\n",
      " -1.44687922e+03 -4.22838246e+03 -7.01578361e+03 -4.23890300e+03\n",
      " -7.02231909e+03 -4.25221319e+03 -7.04264297e+03 -7.07300922e+03\n",
      " -1.53526801e+03 -7.09819479e+03 -7.10457096e+03 -1.55551218e+03\n",
      " -7.19463350e+03  0.00000000e+00 -1.64940034e+03 -1.68829476e+03\n",
      "  0.00000000e+00 -1.69435199e+03 -1.69905434e+03 -7.26222030e+03\n",
      " -4.50064243e+03 -4.50271466e+03 -7.29115183e+03 -4.51586530e+03\n",
      " -4.51626383e+03 -7.29944078e+03 -1.75883041e+03 -4.54607218e+03\n",
      "  0.00000000e+00  0.00000000e+00  0.00000000e+00 -4.28500636e+04\n",
      "  8.21521414e-01  4.21262618e-01  2.79161510e+03]\n"
     ],
     "output_type":"stream"
    }
   ],
   "metadata":{
    "datalore":{
     "node_id":"z2lSjjjDTSxJiBkbNwEJzE",
     "type":"CODE",
     "hide_input_from_viewers":false,
     "hide_output_from_viewers":false
    }
   }
  },
  {
   "cell_type":"code",
   "source":[
    "print(model.intercept_)"
   ],
   "execution_count":13,
   "outputs":[
    {
     "name":"stdout",
     "text":[
      "-81668.0617313337\n"
     ],
     "output_type":"stream"
    }
   ],
   "metadata":{
    "datalore":{
     "node_id":"7vMkyLUOZaRCgM8YpBtO5P",
     "type":"CODE",
     "hide_input_from_viewers":false,
     "hide_output_from_viewers":false
    }
   }
  },
  {
   "cell_type":"code",
   "source":[
    "from sklearn.metrics import r2_score\n",
    "r2_score(y_train, y_pred)"
   ],
   "execution_count":15,
   "outputs":[
    {
     "data":{
      "text\/plain":[
       "0.9996273352859235"
      ]
     },
     "metadata":{
      
     },
     "output_type":"display_data"
    }
   ],
   "metadata":{
    "datalore":{
     "node_id":"M0AnqvnYgxIlsQNJy5b3CD",
     "type":"CODE",
     "hide_input_from_viewers":false,
     "hide_output_from_viewers":false
    }
   }
  }
 ],
 "metadata":{
  "kernelspec":{
   "display_name":"Python",
   "language":"python",
   "name":"python"
  },
  "datalore":{
   "version":1,
   "computation_mode":"JUPYTER",
   "package_manager":"pip",
   "base_environment":"default",
   "packages":[
    
   ]
  }
 },
 "nbformat":4,
 "nbformat_minor":4
}